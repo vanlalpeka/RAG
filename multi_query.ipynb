{
 "cells": [
  {
   "cell_type": "markdown",
   "metadata": {},
   "source": [
    "# Multi-query (shotgun approach)\n",
    "- Rephrase the input (question) to mutiple (different) questions. \n",
    "- Retrieve the document (answer) for each of the rephrased question.\n",
    "- The answers can be combines in a sequential or a parallel manner."
   ]
  }
 ],
 "metadata": {
  "language_info": {
   "name": "python"
  }
 },
 "nbformat": 4,
 "nbformat_minor": 2
}
